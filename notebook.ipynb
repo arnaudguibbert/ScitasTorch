{
 "cells": [
  {
   "cell_type": "code",
   "execution_count": 1,
   "metadata": {},
   "outputs": [],
   "source": [
    "%load_ext autoreload\n",
    "%autoreload 2\n",
    "\n",
    "import logging\n",
    "import logging.config\n",
    "import yaml\n",
    "import os\n",
    "from datetime import date\n",
    "\n",
    "from argparse import ArgumentParser\n",
    "\n",
    "from models import CNN, TrainModel, SetOptimizer\n",
    "from data import SetDataLoader\n",
    "\n",
    "import torch.nn as nn\n",
    "import torch\n",
    "from torchvision.transforms import ToTensor, Lambda"
   ]
  },
  {
   "cell_type": "code",
   "execution_count": 2,
   "metadata": {},
   "outputs": [],
   "source": [
    "with open(\"config.yml\",\"r\") as file:\n",
    "    config = yaml.safe_load(file)\n",
    "    logging.config.dictConfig(config[\"logger\"])"
   ]
  },
  {
   "cell_type": "code",
   "execution_count": 4,
   "metadata": {},
   "outputs": [],
   "source": [
    "model = CNN()"
   ]
  },
  {
   "cell_type": "code",
   "execution_count": 5,
   "metadata": {},
   "outputs": [],
   "source": [
    "optimizer = SetOptimizer(model,lr=3e-1)"
   ]
  },
  {
   "cell_type": "code",
   "execution_count": 6,
   "metadata": {},
   "outputs": [],
   "source": [
    "loader = SetDataLoader(dataset_name=\"MNIST\",\n",
    "                       root=\"./datasets\",download=True,transform=ToTensor())"
   ]
  },
  {
   "cell_type": "code",
   "execution_count": 7,
   "metadata": {},
   "outputs": [
    {
     "name": "stdout",
     "output_type": "stream",
     "text": [
      "2022-10-03 22:27:14,656 - models.train - WARNING - hey\n",
      "2022-10-03 22:27:14,657 - models.train - INFO - holo\n"
     ]
    }
   ],
   "source": [
    "trainer = TrainModel(model,\n",
    "                     optimizer,\n",
    "                     criterion=nn.CrossEntropyLoss(),\n",
    "                     train_data=loader,epochs=10,time_limit=10000)"
   ]
  },
  {
   "cell_type": "code",
   "execution_count": 8,
   "metadata": {},
   "outputs": [
    {
     "name": "stdout",
     "output_type": "stream",
     "text": [
      "2022-10-03 22:27:44,958 - models.train - INFO - Training started\n",
      "2022-10-03 22:28:02,422 - models.train - INFO - Epoch [0/10] - Training Loss : tensor(7.8971, device='cuda:0')\n",
      "2022-10-03 22:28:15,730 - models.train - INFO - Epoch [1/10] - Training Loss : tensor(2.8555, device='cuda:0')\n",
      "2022-10-03 22:28:29,197 - models.train - INFO - Epoch [2/10] - Training Loss : tensor(2.0564, device='cuda:0')\n",
      "2022-10-03 22:28:43,872 - models.train - INFO - Epoch [3/10] - Training Loss : tensor(1.7208, device='cuda:0')\n",
      "2022-10-03 22:28:57,886 - models.train - INFO - Epoch [4/10] - Training Loss : tensor(1.4332, device='cuda:0')\n",
      "2022-10-03 22:29:11,659 - models.train - INFO - Epoch [5/10] - Training Loss : tensor(1.1435, device='cuda:0')\n",
      "2022-10-03 22:29:25,547 - models.train - INFO - Epoch [6/10] - Training Loss : tensor(1.0694, device='cuda:0')\n",
      "2022-10-03 22:29:39,301 - models.train - INFO - Epoch [7/10] - Training Loss : tensor(1.0134, device='cuda:0')\n",
      "2022-10-03 22:29:52,930 - models.train - INFO - Epoch [8/10] - Training Loss : tensor(0.8626, device='cuda:0')\n",
      "2022-10-03 22:30:06,654 - models.train - INFO - Epoch [9/10] - Training Loss : tensor(0.7753, device='cuda:0')\n"
     ]
    },
    {
     "data": {
      "text/plain": [
       "False"
      ]
     },
     "execution_count": 8,
     "metadata": {},
     "output_type": "execute_result"
    }
   ],
   "source": [
    "trainer.train()"
   ]
  }
 ],
 "metadata": {
  "kernelspec": {
   "display_name": "Python 3.9.7 ('sem-project')",
   "language": "python",
   "name": "python3"
  },
  "language_info": {
   "codemirror_mode": {
    "name": "ipython",
    "version": 3
   },
   "file_extension": ".py",
   "mimetype": "text/x-python",
   "name": "python",
   "nbconvert_exporter": "python",
   "pygments_lexer": "ipython3",
   "version": "3.9.7"
  },
  "orig_nbformat": 4,
  "vscode": {
   "interpreter": {
    "hash": "59540e7181935b1c0c250c19d5296786c2d22459e81635e79ee7d91b580b6729"
   }
  }
 },
 "nbformat": 4,
 "nbformat_minor": 2
}
